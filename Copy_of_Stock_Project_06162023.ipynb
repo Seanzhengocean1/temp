{
  "nbformat": 4,
  "nbformat_minor": 0,
  "metadata": {
    "colab": {
      "provenance": [],
      "include_colab_link": true
    },
    "kernelspec": {
      "name": "python3",
      "display_name": "Python 3"
    },
    "language_info": {
      "name": "python"
    }
  },
  "cells": [
    {
      "cell_type": "markdown",
      "metadata": {
        "id": "view-in-github",
        "colab_type": "text"
      },
      "source": [
        "<a href=\"https://colab.research.google.com/github/Seanzhengocean1/temp/blob/main/Copy_of_Stock_Project_06162023.ipynb\" target=\"_parent\"><img src=\"https://colab.research.google.com/assets/colab-badge.svg\" alt=\"Open In Colab\"/></a>"
      ]
    },
    {
      "cell_type": "code",
      "source": [
        "import pandas as pd\n",
        "import datetime\n",
        "import matplotlib.pyplot as plt"
      ],
      "metadata": {
        "id": "2aCwVWmF_BUu"
      },
      "execution_count": 1,
      "outputs": []
    },
    {
      "cell_type": "code",
      "source": [
        "df=pd.read_csv(\"/content/EUR_STOCK_DATA.csv\")"
      ],
      "metadata": {
        "id": "jyulmMc0_LgW"
      },
      "execution_count": 2,
      "outputs": []
    },
    {
      "cell_type": "code",
      "source": [
        "df"
      ],
      "metadata": {
        "colab": {
          "base_uri": "https://localhost:8080/",
          "height": 423
        },
        "id": "HWwG3qvh_PKG",
        "outputId": "62e22af0-4f9c-4f52-edb9-ee15d538fff6"
      },
      "execution_count": 3,
      "outputs": [
        {
          "output_type": "execute_result",
          "data": {
            "text/plain": [
              "                      Gmt time      Volume      Open      High       Low  \\\n",
              "0      12.12.2012 00:00:00.000  11011.3902  1.234920  1.235890  1.233830   \n",
              "1      12.12.2012 04:00:00.000  13271.5599  1.235210  1.235510  1.233860   \n",
              "2      12.12.2012 08:00:00.000  26716.2305  1.234350  1.236370  1.233305   \n",
              "3      12.12.2012 12:00:00.000  28430.1602  1.234910  1.237285  1.234850   \n",
              "4      12.12.2012 16:00:00.000  33124.1904  1.236800  1.238700  1.236285   \n",
              "...                        ...         ...       ...       ...       ...   \n",
              "12885  11.12.2020 04:00:00.000  19540.2200  1.607955  1.608915  1.604095   \n",
              "12886  11.12.2020 08:00:00.000  48969.4700  1.605465  1.611820  1.605225   \n",
              "12887  11.12.2020 12:00:00.000  49848.5000  1.609930  1.611365  1.606575   \n",
              "12888  11.12.2020 16:00:00.000  23094.5300  1.606720  1.609540  1.605880   \n",
              "12889  11.12.2020 20:00:00.000   5512.4200  1.607310  1.608910  1.606925   \n",
              "\n",
              "          Close  \n",
              "0      1.235200  \n",
              "1      1.234340  \n",
              "2      1.234905  \n",
              "3      1.236810  \n",
              "4      1.238205  \n",
              "...         ...  \n",
              "12885  1.605455  \n",
              "12886  1.609935  \n",
              "12887  1.606745  \n",
              "12888  1.607315  \n",
              "12889  1.607785  \n",
              "\n",
              "[12890 rows x 6 columns]"
            ],
            "text/html": [
              "\n",
              "  <div id=\"df-f1d1bd03-7c8e-45f5-b2fe-afaa0c0bab37\">\n",
              "    <div class=\"colab-df-container\">\n",
              "      <div>\n",
              "<style scoped>\n",
              "    .dataframe tbody tr th:only-of-type {\n",
              "        vertical-align: middle;\n",
              "    }\n",
              "\n",
              "    .dataframe tbody tr th {\n",
              "        vertical-align: top;\n",
              "    }\n",
              "\n",
              "    .dataframe thead th {\n",
              "        text-align: right;\n",
              "    }\n",
              "</style>\n",
              "<table border=\"1\" class=\"dataframe\">\n",
              "  <thead>\n",
              "    <tr style=\"text-align: right;\">\n",
              "      <th></th>\n",
              "      <th>Gmt time</th>\n",
              "      <th>Volume</th>\n",
              "      <th>Open</th>\n",
              "      <th>High</th>\n",
              "      <th>Low</th>\n",
              "      <th>Close</th>\n",
              "    </tr>\n",
              "  </thead>\n",
              "  <tbody>\n",
              "    <tr>\n",
              "      <th>0</th>\n",
              "      <td>12.12.2012 00:00:00.000</td>\n",
              "      <td>11011.3902</td>\n",
              "      <td>1.234920</td>\n",
              "      <td>1.235890</td>\n",
              "      <td>1.233830</td>\n",
              "      <td>1.235200</td>\n",
              "    </tr>\n",
              "    <tr>\n",
              "      <th>1</th>\n",
              "      <td>12.12.2012 04:00:00.000</td>\n",
              "      <td>13271.5599</td>\n",
              "      <td>1.235210</td>\n",
              "      <td>1.235510</td>\n",
              "      <td>1.233860</td>\n",
              "      <td>1.234340</td>\n",
              "    </tr>\n",
              "    <tr>\n",
              "      <th>2</th>\n",
              "      <td>12.12.2012 08:00:00.000</td>\n",
              "      <td>26716.2305</td>\n",
              "      <td>1.234350</td>\n",
              "      <td>1.236370</td>\n",
              "      <td>1.233305</td>\n",
              "      <td>1.234905</td>\n",
              "    </tr>\n",
              "    <tr>\n",
              "      <th>3</th>\n",
              "      <td>12.12.2012 12:00:00.000</td>\n",
              "      <td>28430.1602</td>\n",
              "      <td>1.234910</td>\n",
              "      <td>1.237285</td>\n",
              "      <td>1.234850</td>\n",
              "      <td>1.236810</td>\n",
              "    </tr>\n",
              "    <tr>\n",
              "      <th>4</th>\n",
              "      <td>12.12.2012 16:00:00.000</td>\n",
              "      <td>33124.1904</td>\n",
              "      <td>1.236800</td>\n",
              "      <td>1.238700</td>\n",
              "      <td>1.236285</td>\n",
              "      <td>1.238205</td>\n",
              "    </tr>\n",
              "    <tr>\n",
              "      <th>...</th>\n",
              "      <td>...</td>\n",
              "      <td>...</td>\n",
              "      <td>...</td>\n",
              "      <td>...</td>\n",
              "      <td>...</td>\n",
              "      <td>...</td>\n",
              "    </tr>\n",
              "    <tr>\n",
              "      <th>12885</th>\n",
              "      <td>11.12.2020 04:00:00.000</td>\n",
              "      <td>19540.2200</td>\n",
              "      <td>1.607955</td>\n",
              "      <td>1.608915</td>\n",
              "      <td>1.604095</td>\n",
              "      <td>1.605455</td>\n",
              "    </tr>\n",
              "    <tr>\n",
              "      <th>12886</th>\n",
              "      <td>11.12.2020 08:00:00.000</td>\n",
              "      <td>48969.4700</td>\n",
              "      <td>1.605465</td>\n",
              "      <td>1.611820</td>\n",
              "      <td>1.605225</td>\n",
              "      <td>1.609935</td>\n",
              "    </tr>\n",
              "    <tr>\n",
              "      <th>12887</th>\n",
              "      <td>11.12.2020 12:00:00.000</td>\n",
              "      <td>49848.5000</td>\n",
              "      <td>1.609930</td>\n",
              "      <td>1.611365</td>\n",
              "      <td>1.606575</td>\n",
              "      <td>1.606745</td>\n",
              "    </tr>\n",
              "    <tr>\n",
              "      <th>12888</th>\n",
              "      <td>11.12.2020 16:00:00.000</td>\n",
              "      <td>23094.5300</td>\n",
              "      <td>1.606720</td>\n",
              "      <td>1.609540</td>\n",
              "      <td>1.605880</td>\n",
              "      <td>1.607315</td>\n",
              "    </tr>\n",
              "    <tr>\n",
              "      <th>12889</th>\n",
              "      <td>11.12.2020 20:00:00.000</td>\n",
              "      <td>5512.4200</td>\n",
              "      <td>1.607310</td>\n",
              "      <td>1.608910</td>\n",
              "      <td>1.606925</td>\n",
              "      <td>1.607785</td>\n",
              "    </tr>\n",
              "  </tbody>\n",
              "</table>\n",
              "<p>12890 rows × 6 columns</p>\n",
              "</div>\n",
              "      <button class=\"colab-df-convert\" onclick=\"convertToInteractive('df-f1d1bd03-7c8e-45f5-b2fe-afaa0c0bab37')\"\n",
              "              title=\"Convert this dataframe to an interactive table.\"\n",
              "              style=\"display:none;\">\n",
              "        \n",
              "  <svg xmlns=\"http://www.w3.org/2000/svg\" height=\"24px\"viewBox=\"0 0 24 24\"\n",
              "       width=\"24px\">\n",
              "    <path d=\"M0 0h24v24H0V0z\" fill=\"none\"/>\n",
              "    <path d=\"M18.56 5.44l.94 2.06.94-2.06 2.06-.94-2.06-.94-.94-2.06-.94 2.06-2.06.94zm-11 1L8.5 8.5l.94-2.06 2.06-.94-2.06-.94L8.5 2.5l-.94 2.06-2.06.94zm10 10l.94 2.06.94-2.06 2.06-.94-2.06-.94-.94-2.06-.94 2.06-2.06.94z\"/><path d=\"M17.41 7.96l-1.37-1.37c-.4-.4-.92-.59-1.43-.59-.52 0-1.04.2-1.43.59L10.3 9.45l-7.72 7.72c-.78.78-.78 2.05 0 2.83L4 21.41c.39.39.9.59 1.41.59.51 0 1.02-.2 1.41-.59l7.78-7.78 2.81-2.81c.8-.78.8-2.07 0-2.86zM5.41 20L4 18.59l7.72-7.72 1.47 1.35L5.41 20z\"/>\n",
              "  </svg>\n",
              "      </button>\n",
              "      \n",
              "  <style>\n",
              "    .colab-df-container {\n",
              "      display:flex;\n",
              "      flex-wrap:wrap;\n",
              "      gap: 12px;\n",
              "    }\n",
              "\n",
              "    .colab-df-convert {\n",
              "      background-color: #E8F0FE;\n",
              "      border: none;\n",
              "      border-radius: 50%;\n",
              "      cursor: pointer;\n",
              "      display: none;\n",
              "      fill: #1967D2;\n",
              "      height: 32px;\n",
              "      padding: 0 0 0 0;\n",
              "      width: 32px;\n",
              "    }\n",
              "\n",
              "    .colab-df-convert:hover {\n",
              "      background-color: #E2EBFA;\n",
              "      box-shadow: 0px 1px 2px rgba(60, 64, 67, 0.3), 0px 1px 3px 1px rgba(60, 64, 67, 0.15);\n",
              "      fill: #174EA6;\n",
              "    }\n",
              "\n",
              "    [theme=dark] .colab-df-convert {\n",
              "      background-color: #3B4455;\n",
              "      fill: #D2E3FC;\n",
              "    }\n",
              "\n",
              "    [theme=dark] .colab-df-convert:hover {\n",
              "      background-color: #434B5C;\n",
              "      box-shadow: 0px 1px 3px 1px rgba(0, 0, 0, 0.15);\n",
              "      filter: drop-shadow(0px 1px 2px rgba(0, 0, 0, 0.3));\n",
              "      fill: #FFFFFF;\n",
              "    }\n",
              "  </style>\n",
              "\n",
              "      <script>\n",
              "        const buttonEl =\n",
              "          document.querySelector('#df-f1d1bd03-7c8e-45f5-b2fe-afaa0c0bab37 button.colab-df-convert');\n",
              "        buttonEl.style.display =\n",
              "          google.colab.kernel.accessAllowed ? 'block' : 'none';\n",
              "\n",
              "        async function convertToInteractive(key) {\n",
              "          const element = document.querySelector('#df-f1d1bd03-7c8e-45f5-b2fe-afaa0c0bab37');\n",
              "          const dataTable =\n",
              "            await google.colab.kernel.invokeFunction('convertToInteractive',\n",
              "                                                     [key], {});\n",
              "          if (!dataTable) return;\n",
              "\n",
              "          const docLinkHtml = 'Like what you see? Visit the ' +\n",
              "            '<a target=\"_blank\" href=https://colab.research.google.com/notebooks/data_table.ipynb>data table notebook</a>'\n",
              "            + ' to learn more about interactive tables.';\n",
              "          element.innerHTML = '';\n",
              "          dataTable['output_type'] = 'display_data';\n",
              "          await google.colab.output.renderOutput(dataTable, element);\n",
              "          const docLink = document.createElement('div');\n",
              "          docLink.innerHTML = docLinkHtml;\n",
              "          element.appendChild(docLink);\n",
              "        }\n",
              "      </script>\n",
              "    </div>\n",
              "  </div>\n",
              "  "
            ]
          },
          "metadata": {},
          "execution_count": 3
        }
      ]
    },
    {
      "cell_type": "code",
      "source": [
        "print(type(df[\"Gmt time\"].iloc[0]))"
      ],
      "metadata": {
        "colab": {
          "base_uri": "https://localhost:8080/"
        },
        "id": "UVKk1O42FbBG",
        "outputId": "4f0dced5-709a-4d10-a3c3-2c2a9534574c"
      },
      "execution_count": 4,
      "outputs": [
        {
          "output_type": "stream",
          "name": "stdout",
          "text": [
            "<class 'str'>\n"
          ]
        }
      ]
    },
    {
      "cell_type": "code",
      "source": [
        "# BETWEEN OPEN AND CLOSE\n",
        "# If Datetime is in string only the 1st that is day was being comapred\n",
        "df['Gmt time']=pd.to_datetime(df['Gmt time'])\n",
        "\n",
        "def return_data_for_period():\n",
        "  date1=input(\"Enter first Date for time period format D.M.Y :- \")\n",
        "  date2=input(\"Enter Second Date for time period format D.M.Y :- \")\n",
        "  # 0th index has date 1st has Month 2nd has year\n",
        "  # 2012-12-17 04:00:00 .datetime()\n",
        "  # 2012-12-17 .date()\n",
        "  date1=date1.split(\".\")\n",
        "  date2=date2.split(\".\")\n",
        "  date1=datetime.datetime(year=int(date1[2]),month=int(date1[1]),day=int(date1[0]))\n",
        "  date2=datetime.datetime(year=int(date2[2]),month=int(date2[1]),day=int(date2[0]))\n",
        "  date_filt1=df[df[\"Gmt time\"]>date1]\n",
        "  return date_filt1[date_filt1[\"Gmt time\"]<date2]"
      ],
      "metadata": {
        "id": "9hb6L1t8CaN3"
      },
      "execution_count": 5,
      "outputs": []
    },
    {
      "cell_type": "code",
      "source": [
        "open_Close_filtered_Data=return_data_for_period()\n",
        "plt.plot(open_Close_filtered_Data['Gmt time'],open_Close_filtered_Data['Open'],label=\"Open Price\")\n",
        "plt.plot(open_Close_filtered_Data['Gmt time'],open_Close_filtered_Data['Close'],label=\"Close Price\")\n",
        "plt.xticks(rotation=45,fontsize=8)\n",
        "plt.legend()\n",
        "plt.show()"
      ],
      "metadata": {
        "colab": {
          "base_uri": "https://localhost:8080/",
          "height": 478
        },
        "id": "zt_PUWE4EMOH",
        "outputId": "b6efde73-706e-48f4-9053-a56acb178432"
      },
      "execution_count": 6,
      "outputs": [
        {
          "name": "stdout",
          "output_type": "stream",
          "text": [
            "Enter first Date for time period format D.M.Y :- 01.03.2010\n",
            "Enter Second Date for time period format D.M.Y :- 11.12.2020\n"
          ]
        },
        {
          "output_type": "display_data",
          "data": {
            "text/plain": [
              "<Figure size 640x480 with 1 Axes>"
            ],
            "image/png": "[encoded data removed]"
          },
          "metadata": {}
        }
      ]
    },
    {
      "cell_type": "code",
      "source": [
        "low_high_filtered_Data=return_data_for_period()\n",
        "plt.plot(open_Close_filtered_Data['Gmt time'],open_Close_filtered_Data['High'],label=\"High Price\")\n",
        "plt.plot(open_Close_filtered_Data['Gmt time'],open_Close_filtered_Data['Low'],label=\"Low Price\")\n",
        "plt.xticks(rotation=45,fontsize=8)\n",
        "plt.legend()\n",
        "plt.show()"
      ],
      "metadata": {
        "id": "PtghuyslOvW0"
      },
      "execution_count": null,
      "outputs": []
    },
    {
      "cell_type": "code",
      "source": [],
      "metadata": {
        "id": "CkK1LhsrPRy7"
      },
      "execution_count": null,
      "outputs": []
    },
    {
      "cell_type": "code",
      "source": [
        "# Data Preprocessing and Cleaning and EDA\n",
        "# Making More features from current features to help the model learn better"
      ],
      "metadata": {
        "id": "OOBFkdaJCZRN"
      },
      "execution_count": null,
      "outputs": []
    },
    {
      "cell_type": "code",
      "source": [
        "# Plot Open vs Close Between any time period entered by the user\n",
        "# Plot High vs Low Between any time period entered by the user\n",
        "# Check which months over the year had highest Volume\n",
        "# Study what are technical Indicators\n",
        "# See Seasonal Trends in Closing Price and Find out the months for high Volitality"
      ],
      "metadata": {
        "id": "pr3qHAKRCsSN"
      },
      "execution_count": null,
      "outputs": []
    },
    {
      "cell_type": "code",
      "source": [
        "# Check which months over the year had highest Volume\n",
        "# caluclate mean volume for each month each year\n",
        "# 1 data frames that has 12 jan,feb,march,april,may,june,july..... and rows will be number of year"
      ],
      "metadata": {
        "id": "IAC5aY2LC87d"
      },
      "execution_count": null,
      "outputs": []
    },
    {
      "cell_type": "code",
      "source": [
        "def find_data_for_all_months(column_to_mean):\n",
        "  years=[]\n",
        "  all_months_data=[]\n",
        "  for index in range(9):\n",
        "    years.append(2012+index)\n",
        "  for k in range(1,13): # Number of months january is 1.................. 12 is december\n",
        "    temp_monthly_data=[]\n",
        "    for j in years:\n",
        "      if k ==12:\n",
        "        # date1 is year/01/12\n",
        "        # date2 is year+1/01/01\n",
        "        date1=datetime.datetime(year=j,month=k,day=1)\n",
        "        date2=datetime.datetime(year=j+1,month=1,day=1)\n",
        "      else:\n",
        "        date1=datetime.datetime(year=j,month=k,day=1)\n",
        "        date2=datetime.datetime(year=j,month=k+1,day=1)\n",
        "      date_filt1=df[df[\"Gmt time\"]>=date1]\n",
        "      date_filter_2=date_filt1[date_filt1[\"Gmt time\"]<date2]\n",
        "      temp_monthly_data.append(date_filter_2[column_to_mean].mean())\n",
        "    all_months_data.append(temp_monthly_data)\n",
        "  return all_months_data"
      ],
      "metadata": {
        "id": "cqG3jHcwPaFs"
      },
      "execution_count": null,
      "outputs": []
    },
    {
      "cell_type": "code",
      "source": [
        "all_months_of_data=find_data_for_all_months(\"Close\")\n",
        "import numpy as np\n",
        "data_of_months_as_a_array=np.array(all_months_of_data).T"
      ],
      "metadata": {
        "id": "5e_e_XBSHNDA"
      },
      "execution_count": null,
      "outputs": []
    },
    {
      "cell_type": "code",
      "source": [
        "months=[\"Jan\",\"Feb\",\"March\",\"April\",\"May\",\"June\",\"July\",\"August\",\"September\",\"October\",\"Nov\",\"Dec\"]\n",
        "df_months=pd.DataFrame(data_of_months_as_a_array,columns=months)"
      ],
      "metadata": {
        "id": "IfHkHmFkMClp"
      },
      "execution_count": null,
      "outputs": []
    },
    {
      "cell_type": "code",
      "source": [
        "df_months"
      ],
      "metadata": {
        "id": "2ZnrDZB0RI-f"
      },
      "execution_count": null,
      "outputs": []
    },
    {
      "cell_type": "code",
      "source": [
        "import matplotlib.pyplot as plt\n",
        "\n",
        "plt.plot(df_months.mean())\n",
        "plt.xticks(rotation=90)\n",
        "plt.show()"
      ],
      "metadata": {
        "id": "cpF3ruZtRgfe"
      },
      "execution_count": null,
      "outputs": []
    },
    {
      "cell_type": "code",
      "source": [
        "all_months_of_data=find_data_for_all_months(\"Volume\")\n",
        "import numpy as np\n",
        "data_of_months_as_a_array=np.array(all_months_of_data).T\n",
        "months=[\"Jan\",\"Feb\",\"March\",\"April\",\"May\",\"June\",\"July\",\"August\",\"September\",\"October\",\"Nov\",\"Dec\"]\n",
        "df_months=pd.DataFrame(data_of_months_as_a_array,columns=months)\n",
        "import matplotlib.pyplot as plt\n",
        "plt.plot(df_months.mean())\n",
        "plt.xticks(rotation=90)\n",
        "plt.show()"
      ],
      "metadata": {
        "id": "DEh57WhQSDAY"
      },
      "execution_count": null,
      "outputs": []
    },
    {
      "cell_type": "code",
      "source": [
        "# Simple moving Average\n",
        "# Cumulative Moving Average\n",
        "# Explonentital Movie Average\n",
        "\n",
        "#Team 1\n",
        "# anand,fatta gurang,pratisth,rabin,sagar,samita\n",
        "\n",
        "#Team 2\n",
        "# sean,shanti,smriti,manoj,veera,yog"
      ],
      "metadata": {
        "id": "BxEpzmPkSfa3"
      },
      "execution_count": null,
      "outputs": []
    }
  ]
}